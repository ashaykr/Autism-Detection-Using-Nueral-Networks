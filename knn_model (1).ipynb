{
  "nbformat": 4,
  "nbformat_minor": 0,
  "metadata": {
    "colab": {
      "provenance": []
    },
    "kernelspec": {
      "name": "python3",
      "display_name": "Python 3"
    },
    "language_info": {
      "name": "python"
    }
  },
  "cells": [
    {
      "cell_type": "code",
      "execution_count": 1,
      "metadata": {
        "id": "MvcEL0orEHtD"
      },
      "outputs": [],
      "source": [
        "import pandas as pd\n",
        "import numpy as np\n",
        "import matplotlib.pyplot as plt\n",
        "import seaborn as sns\n",
        "import seaborn as sb\n",
        "\n"
      ]
    },
    {
      "cell_type": "code",
      "source": [
        "from sklearn.preprocessing import LabelEncoder\n",
        "from sklearn.model_selection import train_test_split\n",
        "from sklearn import metrics\n",
        "from sklearn.metrics import confusion_matrix #Confusion matrix\n",
        "from sklearn.metrics import classification_report\n",
        "from sklearn.metrics import accuracy_score  \n",
        "from sklearn.neighbors import KNeighborsClassifier  \n",
        "data = pd.read_csv('Autism-Adult-Data.arff',na_values=\"?\")"
      ],
      "metadata": {
        "id": "crSH6bpgEzMO"
      },
      "execution_count": 2,
      "outputs": []
    },
    {
      "cell_type": "code",
      "source": [
        "#plt.figure(figsize=(10,7))\n",
        "#sns.heatmap(data.isnull(),cmap=\"viridis\",cbar=False,yticklabels=False)\n",
        "print(data.head())\n",
        "\n",
        "total_missing_data = data.isnull().sum().sort_values(ascending=False)\n",
        "\n",
        "percent_of_missing_data = (data.isnull().sum()/data.isnull().count()*100).sort_values(ascending=False)\n",
        "\n",
        "missing_data = pd.concat(\n",
        "    [\n",
        "        total_missing_data, \n",
        "        percent_of_missing_data\n",
        "    ], \n",
        "    axis=1, \n",
        "    keys=['Total', 'Percent']\n",
        ")\n",
        "print(missing_data.head())"
      ],
      "metadata": {
        "colab": {
          "base_uri": "https://localhost:8080/"
        },
        "id": "GU7TELylFQ1z",
        "outputId": "4eda8647-4490-493b-ff43-d50f228ed8f0"
      },
      "execution_count": 8,
      "outputs": [
        {
          "output_type": "stream",
          "name": "stdout",
          "text": [
            "   A1_Score  A2_Score  A3_Score  A4_Score  A5_Score  A6_Score  A7_Score  \\\n",
            "0         1         1         1         1         0         0         1   \n",
            "1         1         1         0         1         0         0         0   \n",
            "2         1         1         0         1         1         0         1   \n",
            "3         1         1         0         1         0         0         1   \n",
            "4         1         0         0         0         0         0         0   \n",
            "\n",
            "   A8_Score  A9_Score  A10_Score  age  gender  jundice  austim  decision_class  \n",
            "0         1         0          0   26       0        0       0               0  \n",
            "1         1         0          1   24       1        0       1               0  \n",
            "2         1         1          1   27       1        1       1               1  \n",
            "3         1         0          1   35       0        0       1               0  \n",
            "4         1         0          0   40       0        0       0               0  \n",
            "          Total  Percent\n",
            "A1_Score      0      0.0\n",
            "A2_Score      0      0.0\n",
            "A3_Score      0      0.0\n",
            "A4_Score      0      0.0\n",
            "A5_Score      0      0.0\n"
          ]
        }
      ]
    },
    {
      "cell_type": "code",
      "source": [
        "data.rename(columns={'Class/ASD': 'decision_class'}, inplace=True)\n",
        "data.jundice = data.jundice.apply(lambda x: 0 if x == 'no' else 1)\n",
        "data.decision_class = data.decision_class.apply(lambda x: 0 if x == 'NO' else 1)\n",
        "data.austim = data.austim.apply(lambda x: 0 if x == 'no' else 1)\n",
        "le = LabelEncoder()\n",
        "data.gender = le.fit_transform(data.gender) #This method performs fit and transform on the input data at a single time and converts the data points.\n",
        "data.drop(['result'], axis=1, inplace=True)\n",
        "\n",
        "#print(data.isnull().sum())\n",
        "#converting no and yes to 0's and 1's"
      ],
      "metadata": {
        "id": "h-2ChsOwFTAZ"
      },
      "execution_count": 4,
      "outputs": []
    },
    {
      "cell_type": "code",
      "source": [
        "#Training Dataset\n",
        "\n",
        "X=data[['A1_Score', 'A2_Score', 'A3_Score', 'A4_Score', 'A5_Score', 'A6_Score',\n",
        "       'A7_Score', 'A8_Score', 'A9_Score', 'A10_Score', 'age', 'austim', 'gender',\n",
        "       'jundice']]\n",
        "print(X)\n",
        "Y=data[['decision_class']]\n",
        "print(Y.shape) #give the lengths of the corresponding array dimensions.\n",
        "X_train, X_test, y_train, y_test = train_test_split(X, Y, test_size=0.3, random_state=101) #Split arrays or matrices into random train and test subsets.\n",
        "\n",
        "\n",
        "y_train=y_train.values.ravel() #Return a contiguous flattened array.\n",
        "#y_train"
      ],
      "metadata": {
        "id": "G37JtwP5FWhv"
      },
      "execution_count": null,
      "outputs": []
    },
    {
      "cell_type": "code",
      "source": [
        "classifier = KNeighborsClassifier(n_neighbors=5)  #Classifier implementing the k-nearest neighbors vote.\n",
        "classifier.fit(X_train, y_train) #Fit the k-nearest neighbors classifier from the training dataset.\n",
        "y_pred = classifier.predict(X_test)    \n",
        "print(confusion_matrix(y_test, y_pred))  \n",
        "print(classification_report(y_test, y_pred)) #Build a text report showing the main classification metrics.\n",
        "print(\"Accuracy is \", accuracy_score(y_test,y_pred)*100)\n",
        "\n"
      ],
      "metadata": {
        "colab": {
          "base_uri": "https://localhost:8080/"
        },
        "id": "qkW69KA6gpZ9",
        "outputId": "ce06c7ed-a0b2-4087-e7fd-57c81b8a7c84"
      },
      "execution_count": 11,
      "outputs": [
        {
          "output_type": "stream",
          "name": "stdout",
          "text": [
            "[[149  10]\n",
            " [  7  46]]\n",
            "              precision    recall  f1-score   support\n",
            "\n",
            "           0       0.96      0.94      0.95       159\n",
            "           1       0.82      0.87      0.84        53\n",
            "\n",
            "    accuracy                           0.92       212\n",
            "   macro avg       0.89      0.90      0.90       212\n",
            "weighted avg       0.92      0.92      0.92       212\n",
            "\n",
            "Accuracy is  91.98113207547169\n"
          ]
        }
      ]
    },
    {
      "cell_type": "code",
      "source": [
        "\n",
        "# try K=1 through K=25 and record testing accuracy\n",
        "k_range = range(1, 26)\n",
        "# We can create Python dictionary using [] or dict()\n",
        "scores = []\n",
        "\n",
        "# We use a loop through the range 1 to 26\n",
        "# We append the scores in the dictionary\n",
        "for k in k_range:\n",
        "    knn = KNeighborsClassifier(n_neighbors=k)\n",
        "    knn.fit(X_train, y_train)\n",
        "    y_pred = knn.predict(X_test)\n",
        "    scores.append(metrics.accuracy_score(y_test, y_pred))\n",
        "\n",
        "\n"
      ],
      "metadata": {
        "id": "AgFEF6GoFabg"
      },
      "execution_count": 13,
      "outputs": []
    },
    {
      "cell_type": "code",
      "source": [
        "print(scores)\n",
        "#%matplotlib inline\n",
        "plt.plot(k_range, scores)\n",
        "plt.xlabel('Value of K for KNN')\n",
        "plt.ylabel('Testing Accuracy')\n",
        "plt.show() "
      ],
      "metadata": {
        "id": "mjNOWU9cF80h",
        "outputId": "088dd6c7-b013-4c54-d2ea-a4de92d47679",
        "colab": {
          "base_uri": "https://localhost:8080/",
          "height": 316
        }
      },
      "execution_count": 7,
      "outputs": [
        {
          "output_type": "stream",
          "name": "stdout",
          "text": [
            "[0.9009433962264151, 0.9056603773584906, 0.910377358490566, 0.910377358490566, 0.9198113207547169, 0.9292452830188679, 0.9481132075471698, 0.9292452830188679, 0.9339622641509434, 0.910377358490566, 0.9198113207547169, 0.9056603773584906, 0.910377358490566, 0.9150943396226415, 0.9009433962264151, 0.910377358490566, 0.9056603773584906, 0.8867924528301887, 0.9009433962264151, 0.8915094339622641, 0.9009433962264151, 0.8915094339622641, 0.8962264150943396, 0.8820754716981132, 0.8773584905660378]\n"
          ]
        },
        {
          "output_type": "display_data",
          "data": {
            "text/plain": [
              "<Figure size 432x288 with 1 Axes>"
            ],
            "image/png": "[encoded data removed]"
          },
          "metadata": {
            "needs_background": "light"
          }
        }
      ]
    }
  ]
}