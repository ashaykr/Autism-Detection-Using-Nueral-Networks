{
  "nbformat": 4,
  "nbformat_minor": 0,
  "metadata": {
    "colab": {
      "provenance": []
    },
    "kernelspec": {
      "name": "python3",
      "display_name": "Python 3"
    },
    "language_info": {
      "name": "python"
    }
  },
  "cells": [
    {
      "cell_type": "code",
      "execution_count": 2,
      "metadata": {
        "colab": {
          "base_uri": "https://localhost:8080/"
        },
        "id": "B440l7d4GZQb",
        "outputId": "93a00532-417c-4abb-f48b-6cbfc2574338"
      },
      "outputs": [
        {
          "output_type": "stream",
          "name": "stdout",
          "text": [
            "   A1_Score  A2_Score  A3_Score  A4_Score  A5_Score  A6_Score  A7_Score  \\\n",
            "0         1         1         1         1         0         0         1   \n",
            "1         1         1         0         1         0         0         0   \n",
            "2         1         1         0         1         1         0         1   \n",
            "3         1         1         0         1         0         0         1   \n",
            "4         1         0         0         0         0         0         0   \n",
            "\n",
            "   A8_Score  A9_Score  A10_Score  age gender jundice austim  result Class/ASD  \n",
            "0         1         0          0   26      f      no     no       6        NO  \n",
            "1         1         0          1   24      m      no    yes       5        NO  \n",
            "2         1         1          1   27      m     yes    yes       8       YES  \n",
            "3         1         0          1   35      f      no    yes       6        NO  \n",
            "4         1         0          0   40      f      no     no       2        NO  \n"
          ]
        }
      ],
      "source": [
        "import pandas as pd\n",
        "import numpy as np\n",
        "import graphviz\n",
        "import pydotplus\n",
        "from os import system\n",
        "import matplotlib.pyplot as plt\n",
        "import seaborn as sns\n",
        "import seaborn as sb\n",
        "from sklearn.preprocessing import LabelEncoder\n",
        "from sklearn.model_selection import train_test_split\n",
        "from sklearn.metrics import confusion_matrix #Confusion matrix\n",
        "from sklearn.metrics import classification_report\n",
        "from sklearn.metrics import accuracy_score  \n",
        "from sklearn.tree import DecisionTreeClassifier\n",
        "from sklearn.metrics import accuracy_score\n",
        "from sklearn import tree\n",
        "data = pd.read_csv('Autism-Adult-Data.arff',na_values=\"?\")\n",
        "#plt.figure(figsize=(10,7))\n",
        "#sns.heatmap(data.isnull(),cmap=\"viridis\",cbar=False,yticklabels=False)\n",
        "print(data.head())"
      ]
    },
    {
      "cell_type": "code",
      "source": [
        "total_missing_data = data.isnull().sum().sort_values(ascending=False)\n",
        "\n",
        "percent_of_missing_data = (data.isnull().sum()/data.isnull().count()*100).sort_values(ascending=False)\n",
        "\n",
        "missing_data = pd.concat(\n",
        "    [\n",
        "        total_missing_data, \n",
        "        percent_of_missing_data\n",
        "    ], \n",
        "    axis=1, \n",
        "    keys=['Total', 'Percent']\n",
        ")\n",
        "print(missing_data.head())\n",
        "\n",
        "data.rename(columns={'Class/ASD': 'decision_class'}, inplace=True)\n",
        "data.jundice = data.jundice.apply(lambda x: 0 if x == 'no' else 1)\n",
        "data.decision_class = data.decision_class.apply(lambda x: 0 if x == 'NO' else 1)\n",
        "data.austim = data.austim.apply(lambda x: 0 if x == 'no' else 1)\n",
        "le = LabelEncoder()\n",
        "data.gender = le.fit_transform(data.gender) \n",
        "data.drop(['result'], axis=1, inplace=True)\n",
        "\n",
        "#print(data.isnull().sum())"
      ],
      "metadata": {
        "colab": {
          "base_uri": "https://localhost:8080/"
        },
        "id": "RFekQG0SGbGM",
        "outputId": "b09acfd8-8d7d-4196-e54a-de4a3ad635c6"
      },
      "execution_count": 3,
      "outputs": [
        {
          "output_type": "stream",
          "name": "stdout",
          "text": [
            "          Total  Percent\n",
            "A1_Score      0      0.0\n",
            "A2_Score      0      0.0\n",
            "A3_Score      0      0.0\n",
            "A4_Score      0      0.0\n",
            "A5_Score      0      0.0\n"
          ]
        }
      ]
    },
    {
      "cell_type": "code",
      "source": [
        "#Training the data\n",
        "\n",
        "X=data[['A1_Score', 'A2_Score', 'A3_Score', 'A4_Score', 'A5_Score', 'A6_Score',\n",
        "       'A7_Score', 'A8_Score', 'A9_Score', 'A10_Score', 'age', 'austim', 'gender',\n",
        "       'jundice']]\n",
        "print(X)\n",
        "Y=data[['decision_class']]\n",
        "print(Y.shape)\n",
        "X_train, X_test, y_train, y_test = train_test_split(X, Y, test_size=0.3, random_state=101)\n",
        "#y_train=y_train.values.ravel()\n",
        "feature_names=X.columns\n",
        "print(feature_names)\n"
      ],
      "metadata": {
        "colab": {
          "base_uri": "https://localhost:8080/"
        },
        "id": "YXEP3UGKGsKP",
        "outputId": "4352911d-7174-4fbb-a361-c6f8c9d970ec"
      },
      "execution_count": 4,
      "outputs": [
        {
          "output_type": "stream",
          "name": "stdout",
          "text": [
            "     A1_Score  A2_Score  A3_Score  A4_Score  A5_Score  A6_Score  A7_Score  \\\n",
            "0           1         1         1         1         0         0         1   \n",
            "1           1         1         0         1         0         0         0   \n",
            "2           1         1         0         1         1         0         1   \n",
            "3           1         1         0         1         0         0         1   \n",
            "4           1         0         0         0         0         0         0   \n",
            "..        ...       ...       ...       ...       ...       ...       ...   \n",
            "699         0         1         0         1         1         0         1   \n",
            "700         1         0         0         0         0         0         0   \n",
            "701         1         0         1         1         1         0         1   \n",
            "702         1         0         0         1         1         0         1   \n",
            "703         1         0         1         1         1         0         1   \n",
            "\n",
            "     A8_Score  A9_Score  A10_Score  age  austim  gender  jundice  \n",
            "0           1         0          0   26       0       0        0  \n",
            "1           1         0          1   24       1       1        0  \n",
            "2           1         1          1   27       1       1        1  \n",
            "3           1         0          1   35       1       0        0  \n",
            "4           1         0          0   40       0       0        0  \n",
            "..        ...       ...        ...  ...     ...     ...      ...  \n",
            "699         1         1          1   25       0       0        0  \n",
            "700         1         0          1   34       0       1        0  \n",
            "701         1         0          1   24       0       0        0  \n",
            "702         0         1          1   35       0       1        0  \n",
            "703         1         1          1   26       0       0        0  \n",
            "\n",
            "[704 rows x 14 columns]\n",
            "(704, 1)\n",
            "Index(['A1_Score', 'A2_Score', 'A3_Score', 'A4_Score', 'A5_Score', 'A6_Score',\n",
            "       'A7_Score', 'A8_Score', 'A9_Score', 'A10_Score', 'age', 'austim',\n",
            "       'gender', 'jundice'],\n",
            "      dtype='object')\n"
          ]
        }
      ]
    },
    {
      "cell_type": "code",
      "source": [
        "\n",
        "clf_entropy = DecisionTreeClassifier(criterion = \"entropy\", random_state = 42,max_depth=3, min_samples_leaf=5) #The function to measure the quality of a split.\n",
        "clf_entropy.fit(X_train, y_train) #Build a decision tree classifier from the training set (X, y)\n",
        "y_pred = clf_entropy.predict(X_test)\n",
        "print(y_pred)\n",
        "print(\"Accuracy is \", accuracy_score(y_test,y_pred)*100)\n",
        "feature_target = ['1','0']\n",
        "tree.export_graphviz(clf_entropy, out_file='tree.dot', feature_names = feature_names, class_names = feature_target,\n",
        "                     filled = True, rounded = True, special_characters = True)#This function generates a GraphViz representation of the decision tree\n",
        "system(\"dot -Tpng tree.dot -o tree.png \")"
      ],
      "metadata": {
        "colab": {
          "base_uri": "https://localhost:8080/"
        },
        "id": "rV0sRjf1lA0c",
        "outputId": "5ed88080-8d99-4203-8f07-06d71a765b40"
      },
      "execution_count": 5,
      "outputs": [
        {
          "output_type": "stream",
          "name": "stdout",
          "text": [
            "[0 0 0 0 0 0 0 0 1 1 0 0 1 0 0 1 0 0 0 0 0 0 0 0 0 0 0 1 0 0 1 0 1 0 0 0 1\n",
            " 0 0 1 0 0 1 0 0 0 0 0 0 1 0 0 0 0 0 1 0 0 0 0 0 1 0 0 0 0 0 0 1 0 0 0 0 0\n",
            " 0 0 0 0 0 0 0 0 1 1 0 0 0 0 0 1 0 0 0 1 0 1 0 0 0 0 1 0 1 0 0 0 0 0 0 0 0\n",
            " 0 0 0 0 0 0 1 0 0 0 0 0 0 0 0 0 0 0 0 0 1 0 0 0 0 0 1 0 0 0 0 0 0 1 0 0 1\n",
            " 0 0 0 0 1 0 0 0 0 0 0 0 0 0 0 0 0 0 0 0 0 0 0 0 1 0 1 0 0 1 0 0 0 0 1 0 0\n",
            " 0 0 0 1 0 1 0 0 0 0 0 0 1 0 0 0 0 0 1 0 0 1 0 0 0 0 0]\n",
            "Accuracy is  84.43396226415094\n"
          ]
        },
        {
          "output_type": "execute_result",
          "data": {
            "text/plain": [
              "0"
            ]
          },
          "metadata": {},
          "execution_count": 5
        }
      ]
    }
  ]
}